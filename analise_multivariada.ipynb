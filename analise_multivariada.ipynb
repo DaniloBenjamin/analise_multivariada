{
 "cells": [
  {
   "cell_type": "markdown",
   "id": "67e53442",
   "metadata": {},
   "source": [
    "\n",
    "## <font color='blue'>Análise Multivariada em Ciência de Dados</font>\n",
    "## <font color='blue'>Lab 7</font>\n",
    "## <font color='blue'>Prática com Dataset de Alta Dimensionalidade</font>"
   ]
  },
  {
   "cell_type": "markdown",
   "id": "4e7b4151",
   "metadata": {},
   "source": [
    "## Instalando e Carregando os Pacotes"
   ]
  },
  {
   "cell_type": "code",
   "execution_count": 3,
   "id": "acef13d8",
   "metadata": {},
   "outputs": [],
   "source": [
    "# Imports\n",
    "import numpy as np\n",
    "import pandas as pd\n",
    "import sklearn\n",
    "import matplotlib.pyplot as plt\n",
    "from sklearn.preprocessing import StandardScaler\n",
    "from sklearn.decomposition import PCA\n",
    "from sklearn.model_selection import cross_val_score\n",
    "from sklearn.linear_model import LogisticRegression\n",
    "from sklearn.model_selection import LeaveOneOut\n",
    "import warnings\n",
    "warnings.filterwarnings('ignore')"
   ]
  },
  {
   "cell_type": "markdown",
   "id": "712c38db",
   "metadata": {},
   "source": [
    "## Carregando e Compreendendo os Dados\n",
    "\n",
    "Primeiro, criaremos um conjunto de dados fictício com 8 características e 1000 observações usando o numpy."
   ]
  },
  {
   "cell_type": "code",
   "execution_count": 5,
   "id": "2a3d7431",
   "metadata": {},
   "outputs": [],
   "source": [
    "# Para reprodutibilidade\n",
    "np.random.seed(42)  "
   ]
  },
  {
   "cell_type": "code",
   "execution_count": 6,
   "id": "11aa92d7",
   "metadata": {},
   "outputs": [],
   "source": [
    "# Gera os dados\n",
    "data = np.random.randn(1000, 8)\n",
    "df = pd.DataFrame(data, columns=[f'Atributo_{i}' for i in range(1, 9)])"
   ]
  },
  {
   "cell_type": "code",
   "execution_count": 7,
   "id": "4ebb3747",
   "metadata": {},
   "outputs": [
    {
     "data": {
      "text/html": [
       "<div>\n",
       "<style scoped>\n",
       "    .dataframe tbody tr th:only-of-type {\n",
       "        vertical-align: middle;\n",
       "    }\n",
       "\n",
       "    .dataframe tbody tr th {\n",
       "        vertical-align: top;\n",
       "    }\n",
       "\n",
       "    .dataframe thead th {\n",
       "        text-align: right;\n",
       "    }\n",
       "</style>\n",
       "<table border=\"1\" class=\"dataframe\">\n",
       "  <thead>\n",
       "    <tr style=\"text-align: right;\">\n",
       "      <th></th>\n",
       "      <th>Atributo_1</th>\n",
       "      <th>Atributo_2</th>\n",
       "      <th>Atributo_3</th>\n",
       "      <th>Atributo_4</th>\n",
       "      <th>Atributo_5</th>\n",
       "      <th>Atributo_6</th>\n",
       "      <th>Atributo_7</th>\n",
       "      <th>Atributo_8</th>\n",
       "    </tr>\n",
       "  </thead>\n",
       "  <tbody>\n",
       "    <tr>\n",
       "      <th>0</th>\n",
       "      <td>0.496714</td>\n",
       "      <td>-0.138264</td>\n",
       "      <td>0.647689</td>\n",
       "      <td>1.523030</td>\n",
       "      <td>-0.234153</td>\n",
       "      <td>-0.234137</td>\n",
       "      <td>1.579213</td>\n",
       "      <td>0.767435</td>\n",
       "    </tr>\n",
       "    <tr>\n",
       "      <th>1</th>\n",
       "      <td>-0.469474</td>\n",
       "      <td>0.542560</td>\n",
       "      <td>-0.463418</td>\n",
       "      <td>-0.465730</td>\n",
       "      <td>0.241962</td>\n",
       "      <td>-1.913280</td>\n",
       "      <td>-1.724918</td>\n",
       "      <td>-0.562288</td>\n",
       "    </tr>\n",
       "    <tr>\n",
       "      <th>2</th>\n",
       "      <td>-1.012831</td>\n",
       "      <td>0.314247</td>\n",
       "      <td>-0.908024</td>\n",
       "      <td>-1.412304</td>\n",
       "      <td>1.465649</td>\n",
       "      <td>-0.225776</td>\n",
       "      <td>0.067528</td>\n",
       "      <td>-1.424748</td>\n",
       "    </tr>\n",
       "    <tr>\n",
       "      <th>3</th>\n",
       "      <td>-0.544383</td>\n",
       "      <td>0.110923</td>\n",
       "      <td>-1.150994</td>\n",
       "      <td>0.375698</td>\n",
       "      <td>-0.600639</td>\n",
       "      <td>-0.291694</td>\n",
       "      <td>-0.601707</td>\n",
       "      <td>1.852278</td>\n",
       "    </tr>\n",
       "    <tr>\n",
       "      <th>4</th>\n",
       "      <td>-0.013497</td>\n",
       "      <td>-1.057711</td>\n",
       "      <td>0.822545</td>\n",
       "      <td>-1.220844</td>\n",
       "      <td>0.208864</td>\n",
       "      <td>-1.959670</td>\n",
       "      <td>-1.328186</td>\n",
       "      <td>0.196861</td>\n",
       "    </tr>\n",
       "  </tbody>\n",
       "</table>\n",
       "</div>"
      ],
      "text/plain": [
       "   Atributo_1  Atributo_2  Atributo_3  Atributo_4  Atributo_5  Atributo_6  \\\n",
       "0    0.496714   -0.138264    0.647689    1.523030   -0.234153   -0.234137   \n",
       "1   -0.469474    0.542560   -0.463418   -0.465730    0.241962   -1.913280   \n",
       "2   -1.012831    0.314247   -0.908024   -1.412304    1.465649   -0.225776   \n",
       "3   -0.544383    0.110923   -1.150994    0.375698   -0.600639   -0.291694   \n",
       "4   -0.013497   -1.057711    0.822545   -1.220844    0.208864   -1.959670   \n",
       "\n",
       "   Atributo_7  Atributo_8  \n",
       "0    1.579213    0.767435  \n",
       "1   -1.724918   -0.562288  \n",
       "2    0.067528   -1.424748  \n",
       "3   -0.601707    1.852278  \n",
       "4   -1.328186    0.196861  "
      ]
     },
     "execution_count": 7,
     "metadata": {},
     "output_type": "execute_result"
    }
   ],
   "source": [
    "df.head()"
   ]
  },
  {
   "cell_type": "markdown",
   "id": "c80af2e8",
   "metadata": {},
   "source": [
    "## Preparação dos Dados\n",
    "\n",
    "Nesta etapa, vamos padronizar os dados:"
   ]
  },
  {
   "cell_type": "code",
   "execution_count": 8,
   "id": "a761f091",
   "metadata": {},
   "outputs": [],
   "source": [
    "# Cria o padronizador\n",
    "scaler = StandardScaler()"
   ]
  },
  {
   "cell_type": "code",
   "execution_count": 9,
   "id": "94e3a325",
   "metadata": {},
   "outputs": [],
   "source": [
    "# Aplica o padronizador\n",
    "scaled_data = scaler.fit_transform(df)"
   ]
  },
  {
   "cell_type": "markdown",
   "id": "ef2d818b",
   "metadata": {},
   "source": [
    "## Aplicando PCA às Variáveis de Entrada"
   ]
  },
  {
   "cell_type": "markdown",
   "id": "7b5ea8fe",
   "metadata": {},
   "source": [
    "https://scikit-learn.org/stable/modules/generated/sklearn.decomposition.PCA.html"
   ]
  },
  {
   "cell_type": "code",
   "execution_count": 10,
   "id": "51b79f39",
   "metadata": {},
   "outputs": [
    {
     "data": {
      "text/plain": [
       "(1000, 8)"
      ]
     },
     "execution_count": 10,
     "metadata": {},
     "output_type": "execute_result"
    }
   ],
   "source": [
    "df.shape"
   ]
  },
  {
   "cell_type": "code",
   "execution_count": 11,
   "id": "1ac0719d",
   "metadata": {},
   "outputs": [],
   "source": [
    "# Cria o modelo\n",
    "pca = PCA()"
   ]
  },
  {
   "cell_type": "code",
   "execution_count": 12,
   "id": "416352fe",
   "metadata": {},
   "outputs": [],
   "source": [
    "# Treina e aplica o modelo aos dados padronizados\n",
    "pca_data = pca.fit_transform(scaled_data)"
   ]
  },
  {
   "cell_type": "markdown",
   "id": "55627778",
   "metadata": {},
   "source": [
    "## Calculando a Matriz de Covariância\n",
    "\n",
    "No contexto do PCA, a matriz de covariância desempenha um papel vital. Para entender sua importância, vamos primeiro abordar o que ela é e como se relaciona com o PCA.\n",
    "\n",
    "A matriz de covariância é uma matriz quadrada que mede a covariância entre cada par de variáveis em um conjunto de dados. Covariância, em termos simples, é uma medida de como duas variáveis variam juntas. Se ambas as variáveis tendem a aumentar ou diminuir juntas, a covariância é positiva; se uma variável tende a aumentar quando a outra diminui, a covariância é negativa; e se as variáveis não exibem qualquer tendência consistente de variação conjunta, a covariância é próxima de zero.\n",
    "\n",
    "A principal motivação por trás do PCA é reduzir a dimensionalidade de um conjunto de dados mantendo o máximo de informação possível. O PCA busca identificar \"direções\" no espaço de dados que capturam a maior variância nos dados. Essas direções são os chamados componentes principais.\n",
    "\n",
    "A relação entre a matriz de covariância e o PCA é que os componentes principais são determinados a partir dos autovetores da matriz de covariância. O primeiro componente principal é a direção (ou autovetor) que corresponde ao maior autovalor da matriz de covariância e, portanto, captura a maior variância nos dados. O segundo componente principal é a direção que captura a segunda maior variância, e assim por diante."
   ]
  },
  {
   "cell_type": "code",
   "execution_count": 13,
   "id": "a9cad773",
   "metadata": {},
   "outputs": [
    {
     "name": "stdout",
     "output_type": "stream",
     "text": [
      "[[ 1.00100100e+00 -3.69357111e-02  3.06924109e-03 -3.40509104e-02\n",
      "  -2.46119766e-02  1.71832531e-02  1.04925691e-02 -2.19223880e-02]\n",
      " [-3.69357111e-02  1.00100100e+00 -4.84707341e-02 -3.25134657e-02\n",
      "  -6.87427050e-03 -5.40529525e-02  1.51251647e-02 -2.03757820e-02]\n",
      " [ 3.06924109e-03 -4.84707341e-02  1.00100100e+00 -2.26662376e-03\n",
      "  -3.83098518e-02  2.49333208e-02 -3.98294504e-02 -8.44378492e-03]\n",
      " [-3.40509104e-02 -3.25134657e-02 -2.26662376e-03  1.00100100e+00\n",
      "  -7.38873848e-02  2.97271555e-02 -8.86529733e-03  8.37242871e-04]\n",
      " [-2.46119766e-02 -6.87427050e-03 -3.83098518e-02 -7.38873848e-02\n",
      "   1.00100100e+00 -1.17331628e-02 -2.74971107e-02  2.51417888e-02]\n",
      " [ 1.71832531e-02 -5.40529525e-02  2.49333208e-02  2.97271555e-02\n",
      "  -1.17331628e-02  1.00100100e+00  3.13041748e-02 -1.05193266e-02]\n",
      " [ 1.04925691e-02  1.51251647e-02 -3.98294504e-02 -8.86529733e-03\n",
      "  -2.74971107e-02  3.13041748e-02  1.00100100e+00  2.38964840e-02]\n",
      " [-2.19223880e-02 -2.03757820e-02 -8.44378492e-03  8.37242871e-04\n",
      "   2.51417888e-02 -1.05193266e-02  2.38964840e-02  1.00100100e+00]]\n"
     ]
    }
   ],
   "source": [
    "# Calcula a matriz de Covariância \n",
    "cov_matrix = np.cov(scaled_data, rowvar = False)\n",
    "print(cov_matrix)"
   ]
  },
  {
   "cell_type": "markdown",
   "id": "19c08de9",
   "metadata": {},
   "source": [
    "## Visualizando a Variância Explicada"
   ]
  },
  {
   "cell_type": "code",
   "execution_count": 14,
   "id": "fc71da55",
   "metadata": {},
   "outputs": [],
   "source": [
    "# Extrai a variância explicada\n",
    "explained_variance = pca.explained_variance_ratio_"
   ]
  },
  {
   "cell_type": "code",
   "execution_count": 15,
   "id": "6f01e777",
   "metadata": {},
   "outputs": [],
   "source": [
    "# Ajustar o range para começar de 1\n",
    "components = range(1, len(explained_variance) + 1)"
   ]
  },
  {
   "cell_type": "code",
   "execution_count": 16,
   "id": "768d9725",
   "metadata": {},
   "outputs": [
    {
     "data": {
      "image/png": "[encoded data removed]",
      "text/plain": [
       "<Figure size 640x480 with 1 Axes>"
      ]
     },
     "metadata": {},
     "output_type": "display_data"
    }
   ],
   "source": [
    "# Plot\n",
    "plt.bar(components, explained_variance)\n",
    "\n",
    "# Ajustar os ticks no eixo x\n",
    "plt.xticks(components)\n",
    "\n",
    "plt.xlabel('Componente Principal')\n",
    "plt.ylabel('Variância Explicada')\n",
    "plt.title('Variância Explicada por Cada Componente')\n",
    "plt.show()"
   ]
  },
  {
   "cell_type": "markdown",
   "id": "12afa3c0",
   "metadata": {},
   "source": [
    "## Identificação e Interpretação de Cada Componente"
   ]
  },
  {
   "cell_type": "code",
   "execution_count": 17,
   "id": "a3bff886",
   "metadata": {},
   "outputs": [],
   "source": [
    "# Extraindo os componentes principais\n",
    "components = pd.DataFrame(pca.components_, columns = df.columns, index = [f'PC-{i}' for i in range(1, 9)])"
   ]
  },
  {
   "cell_type": "code",
   "execution_count": 18,
   "id": "ea56a232",
   "metadata": {},
   "outputs": [
    {
     "data": {
      "text/html": [
       "<div>\n",
       "<style scoped>\n",
       "    .dataframe tbody tr th:only-of-type {\n",
       "        vertical-align: middle;\n",
       "    }\n",
       "\n",
       "    .dataframe tbody tr th {\n",
       "        vertical-align: top;\n",
       "    }\n",
       "\n",
       "    .dataframe thead th {\n",
       "        text-align: right;\n",
       "    }\n",
       "</style>\n",
       "<table border=\"1\" class=\"dataframe\">\n",
       "  <thead>\n",
       "    <tr style=\"text-align: right;\">\n",
       "      <th></th>\n",
       "      <th>Atributo_1</th>\n",
       "      <th>Atributo_2</th>\n",
       "      <th>Atributo_3</th>\n",
       "      <th>Atributo_4</th>\n",
       "      <th>Atributo_5</th>\n",
       "      <th>Atributo_6</th>\n",
       "      <th>Atributo_7</th>\n",
       "      <th>Atributo_8</th>\n",
       "    </tr>\n",
       "  </thead>\n",
       "  <tbody>\n",
       "    <tr>\n",
       "      <th>PC-1</th>\n",
       "      <td>-0.196388</td>\n",
       "      <td>0.468139</td>\n",
       "      <td>-0.405046</td>\n",
       "      <td>-0.417747</td>\n",
       "      <td>0.436951</td>\n",
       "      <td>-0.448249</td>\n",
       "      <td>0.010965</td>\n",
       "      <td>0.108297</td>\n",
       "    </tr>\n",
       "    <tr>\n",
       "      <th>PC-2</th>\n",
       "      <td>-0.275254</td>\n",
       "      <td>0.406774</td>\n",
       "      <td>-0.350551</td>\n",
       "      <td>0.470875</td>\n",
       "      <td>-0.485621</td>\n",
       "      <td>-0.042320</td>\n",
       "      <td>0.420036</td>\n",
       "      <td>-0.010603</td>\n",
       "    </tr>\n",
       "    <tr>\n",
       "      <th>PC-3</th>\n",
       "      <td>0.389133</td>\n",
       "      <td>-0.176295</td>\n",
       "      <td>-0.305869</td>\n",
       "      <td>-0.250275</td>\n",
       "      <td>0.137979</td>\n",
       "      <td>0.371768</td>\n",
       "      <td>0.654928</td>\n",
       "      <td>0.274085</td>\n",
       "    </tr>\n",
       "    <tr>\n",
       "      <th>PC-4</th>\n",
       "      <td>0.542503</td>\n",
       "      <td>0.297805</td>\n",
       "      <td>0.009931</td>\n",
       "      <td>-0.296110</td>\n",
       "      <td>-0.291527</td>\n",
       "      <td>-0.101594</td>\n",
       "      <td>0.043470</td>\n",
       "      <td>-0.657285</td>\n",
       "    </tr>\n",
       "    <tr>\n",
       "      <th>PC-5</th>\n",
       "      <td>-0.263291</td>\n",
       "      <td>-0.017466</td>\n",
       "      <td>-0.357604</td>\n",
       "      <td>0.145364</td>\n",
       "      <td>0.401602</td>\n",
       "      <td>0.537062</td>\n",
       "      <td>-0.112864</td>\n",
       "      <td>-0.564716</td>\n",
       "    </tr>\n",
       "    <tr>\n",
       "      <th>PC-6</th>\n",
       "      <td>0.446916</td>\n",
       "      <td>-0.310198</td>\n",
       "      <td>-0.585621</td>\n",
       "      <td>0.388296</td>\n",
       "      <td>0.030855</td>\n",
       "      <td>-0.316280</td>\n",
       "      <td>-0.325487</td>\n",
       "      <td>0.058223</td>\n",
       "    </tr>\n",
       "    <tr>\n",
       "      <th>PC-7</th>\n",
       "      <td>-0.265614</td>\n",
       "      <td>-0.548444</td>\n",
       "      <td>0.058386</td>\n",
       "      <td>-0.008642</td>\n",
       "      <td>0.092213</td>\n",
       "      <td>-0.495751</td>\n",
       "      <td>0.462134</td>\n",
       "      <td>-0.396654</td>\n",
       "    </tr>\n",
       "    <tr>\n",
       "      <th>PC-8</th>\n",
       "      <td>0.316742</td>\n",
       "      <td>0.313520</td>\n",
       "      <td>0.380994</td>\n",
       "      <td>0.530533</td>\n",
       "      <td>0.546333</td>\n",
       "      <td>-0.120463</td>\n",
       "      <td>0.245726</td>\n",
       "      <td>-0.037217</td>\n",
       "    </tr>\n",
       "  </tbody>\n",
       "</table>\n",
       "</div>"
      ],
      "text/plain": [
       "      Atributo_1  Atributo_2  Atributo_3  Atributo_4  Atributo_5  Atributo_6  \\\n",
       "PC-1   -0.196388    0.468139   -0.405046   -0.417747    0.436951   -0.448249   \n",
       "PC-2   -0.275254    0.406774   -0.350551    0.470875   -0.485621   -0.042320   \n",
       "PC-3    0.389133   -0.176295   -0.305869   -0.250275    0.137979    0.371768   \n",
       "PC-4    0.542503    0.297805    0.009931   -0.296110   -0.291527   -0.101594   \n",
       "PC-5   -0.263291   -0.017466   -0.357604    0.145364    0.401602    0.537062   \n",
       "PC-6    0.446916   -0.310198   -0.585621    0.388296    0.030855   -0.316280   \n",
       "PC-7   -0.265614   -0.548444    0.058386   -0.008642    0.092213   -0.495751   \n",
       "PC-8    0.316742    0.313520    0.380994    0.530533    0.546333   -0.120463   \n",
       "\n",
       "      Atributo_7  Atributo_8  \n",
       "PC-1    0.010965    0.108297  \n",
       "PC-2    0.420036   -0.010603  \n",
       "PC-3    0.654928    0.274085  \n",
       "PC-4    0.043470   -0.657285  \n",
       "PC-5   -0.112864   -0.564716  \n",
       "PC-6   -0.325487    0.058223  \n",
       "PC-7    0.462134   -0.396654  \n",
       "PC-8    0.245726   -0.037217  "
      ]
     },
     "execution_count": 18,
     "metadata": {},
     "output_type": "execute_result"
    }
   ],
   "source": [
    "components"
   ]
  },
  {
   "cell_type": "markdown",
   "id": "11330127",
   "metadata": {},
   "source": [
    "## Escolhendo o Número Ideal de Componentes com Validação Cruzada\n",
    "\n",
    "Usaremos um modelo de regressão logística e verificaremos o desempenho do modelo com diferentes números de componentes."
   ]
  },
  {
   "cell_type": "code",
   "execution_count": 19,
   "id": "ab6807b4",
   "metadata": {},
   "outputs": [],
   "source": [
    "# Adicionando um target fictício\n",
    "df['target'] = np.random.randint(0, 2, df.shape[0])"
   ]
  },
  {
   "cell_type": "code",
   "execution_count": 20,
   "id": "c6b7df80",
   "metadata": {},
   "outputs": [
    {
     "data": {
      "text/html": [
       "<div>\n",
       "<style scoped>\n",
       "    .dataframe tbody tr th:only-of-type {\n",
       "        vertical-align: middle;\n",
       "    }\n",
       "\n",
       "    .dataframe tbody tr th {\n",
       "        vertical-align: top;\n",
       "    }\n",
       "\n",
       "    .dataframe thead th {\n",
       "        text-align: right;\n",
       "    }\n",
       "</style>\n",
       "<table border=\"1\" class=\"dataframe\">\n",
       "  <thead>\n",
       "    <tr style=\"text-align: right;\">\n",
       "      <th></th>\n",
       "      <th>Atributo_1</th>\n",
       "      <th>Atributo_2</th>\n",
       "      <th>Atributo_3</th>\n",
       "      <th>Atributo_4</th>\n",
       "      <th>Atributo_5</th>\n",
       "      <th>Atributo_6</th>\n",
       "      <th>Atributo_7</th>\n",
       "      <th>Atributo_8</th>\n",
       "      <th>target</th>\n",
       "    </tr>\n",
       "  </thead>\n",
       "  <tbody>\n",
       "    <tr>\n",
       "      <th>0</th>\n",
       "      <td>0.496714</td>\n",
       "      <td>-0.138264</td>\n",
       "      <td>0.647689</td>\n",
       "      <td>1.523030</td>\n",
       "      <td>-0.234153</td>\n",
       "      <td>-0.234137</td>\n",
       "      <td>1.579213</td>\n",
       "      <td>0.767435</td>\n",
       "      <td>1</td>\n",
       "    </tr>\n",
       "    <tr>\n",
       "      <th>1</th>\n",
       "      <td>-0.469474</td>\n",
       "      <td>0.542560</td>\n",
       "      <td>-0.463418</td>\n",
       "      <td>-0.465730</td>\n",
       "      <td>0.241962</td>\n",
       "      <td>-1.913280</td>\n",
       "      <td>-1.724918</td>\n",
       "      <td>-0.562288</td>\n",
       "      <td>0</td>\n",
       "    </tr>\n",
       "    <tr>\n",
       "      <th>2</th>\n",
       "      <td>-1.012831</td>\n",
       "      <td>0.314247</td>\n",
       "      <td>-0.908024</td>\n",
       "      <td>-1.412304</td>\n",
       "      <td>1.465649</td>\n",
       "      <td>-0.225776</td>\n",
       "      <td>0.067528</td>\n",
       "      <td>-1.424748</td>\n",
       "      <td>1</td>\n",
       "    </tr>\n",
       "    <tr>\n",
       "      <th>3</th>\n",
       "      <td>-0.544383</td>\n",
       "      <td>0.110923</td>\n",
       "      <td>-1.150994</td>\n",
       "      <td>0.375698</td>\n",
       "      <td>-0.600639</td>\n",
       "      <td>-0.291694</td>\n",
       "      <td>-0.601707</td>\n",
       "      <td>1.852278</td>\n",
       "      <td>1</td>\n",
       "    </tr>\n",
       "    <tr>\n",
       "      <th>4</th>\n",
       "      <td>-0.013497</td>\n",
       "      <td>-1.057711</td>\n",
       "      <td>0.822545</td>\n",
       "      <td>-1.220844</td>\n",
       "      <td>0.208864</td>\n",
       "      <td>-1.959670</td>\n",
       "      <td>-1.328186</td>\n",
       "      <td>0.196861</td>\n",
       "      <td>0</td>\n",
       "    </tr>\n",
       "  </tbody>\n",
       "</table>\n",
       "</div>"
      ],
      "text/plain": [
       "   Atributo_1  Atributo_2  Atributo_3  Atributo_4  Atributo_5  Atributo_6  \\\n",
       "0    0.496714   -0.138264    0.647689    1.523030   -0.234153   -0.234137   \n",
       "1   -0.469474    0.542560   -0.463418   -0.465730    0.241962   -1.913280   \n",
       "2   -1.012831    0.314247   -0.908024   -1.412304    1.465649   -0.225776   \n",
       "3   -0.544383    0.110923   -1.150994    0.375698   -0.600639   -0.291694   \n",
       "4   -0.013497   -1.057711    0.822545   -1.220844    0.208864   -1.959670   \n",
       "\n",
       "   Atributo_7  Atributo_8  target  \n",
       "0    1.579213    0.767435       1  \n",
       "1   -1.724918   -0.562288       0  \n",
       "2    0.067528   -1.424748       1  \n",
       "3   -0.601707    1.852278       1  \n",
       "4   -1.328186    0.196861       0  "
      ]
     },
     "execution_count": 20,
     "metadata": {},
     "output_type": "execute_result"
    }
   ],
   "source": [
    "df.head()"
   ]
  },
  {
   "cell_type": "code",
   "execution_count": 21,
   "id": "bde2d5b7",
   "metadata": {},
   "outputs": [],
   "source": [
    "scores = []"
   ]
  },
  {
   "cell_type": "code",
   "execution_count": 22,
   "id": "b2a063e8",
   "metadata": {},
   "outputs": [],
   "source": [
    "# Loop\n",
    "for i in range(1, 9):\n",
    "    pca = PCA(n_components = i)\n",
    "    pca_data = pca.fit_transform(scaled_data)\n",
    "    lr = LogisticRegression()\n",
    "    score = cross_val_score(lr, pca_data, df['target'], cv = 5).mean()\n",
    "    scores.append(score)"
   ]
  },
  {
   "cell_type": "code",
   "execution_count": 23,
   "id": "6d41499b",
   "metadata": {},
   "outputs": [
    {
     "data": {
      "image/png": "[encoded data removed]",
      "text/plain": [
       "<Figure size 640x480 with 1 Axes>"
      ]
     },
     "metadata": {},
     "output_type": "display_data"
    }
   ],
   "source": [
    "# Plot\n",
    "plt.plot(range(1, 9), scores)\n",
    "plt.xlabel('Número de Componentes')\n",
    "plt.ylabel('Desempenho Médio em Validação Cruzada')\n",
    "plt.title('Desempenho vs. Número de Componentes')\n",
    "plt.show()"
   ]
  },
  {
   "cell_type": "markdown",
   "id": "8cf4192e",
   "metadata": {},
   "source": [
    "## LOOCV - Leave One Out Cross-Validation\n",
    "\n",
    "O Leave One Out Cross-Validation (LOOCV) é uma técnica de validação cruzada em que, a cada iteração, uma única observação é usada como conjunto de teste e o restante dos dados é usado como conjunto de treinamento. Este processo é repetido para cada observação no conjunto de dados, resultando em tantas iterações quanto observações no conjunto. A ideia é treinar o modelo em quase todos os dados e testá-lo em uma pequena porção (neste caso, uma única observação) repetidamente."
   ]
  },
  {
   "cell_type": "code",
   "execution_count": 24,
   "id": "c6e74b4e",
   "metadata": {},
   "outputs": [
    {
     "data": {
      "text/plain": [
       "1000"
      ]
     },
     "execution_count": 24,
     "metadata": {},
     "output_type": "execute_result"
    }
   ],
   "source": [
    "len(pca_data)"
   ]
  },
  {
   "cell_type": "code",
   "execution_count": 25,
   "id": "2f31279b",
   "metadata": {},
   "outputs": [
    {
     "name": "stdout",
     "output_type": "stream",
     "text": [
      "LOOCV Score: 0.523\n"
     ]
    }
   ],
   "source": [
    "# Aplicando o LOOCV\n",
    "loo = LeaveOneOut()\n",
    "lr = LogisticRegression()\n",
    "scores_loo = cross_val_score(lr, pca_data, df['target'], cv = loo)\n",
    "print(f\"LOOCV Score: {scores_loo.mean()}\")"
   ]
  },
  {
   "cell_type": "markdown",
   "id": "312887e2",
   "metadata": {},
   "source": [
    "## Criando o Modelo Final com os Componentes Principais\n",
    "\n",
    "Aqui, escolhemos o número ideal de componentes com base no gráfico anterior e treinamos nosso modelo com esse número."
   ]
  },
  {
   "cell_type": "code",
   "execution_count": 26,
   "id": "ca13e98f",
   "metadata": {},
   "outputs": [
    {
     "data": {
      "text/html": [
       "<style>#sk-container-id-1 {color: black;}#sk-container-id-1 pre{padding: 0;}#sk-container-id-1 div.sk-toggleable {background-color: white;}#sk-container-id-1 label.sk-toggleable__label {cursor: pointer;display: block;width: 100%;margin-bottom: 0;padding: 0.3em;box-sizing: border-box;text-align: center;}#sk-container-id-1 label.sk-toggleable__label-arrow:before {content: \"▸\";float: left;margin-right: 0.25em;color: #696969;}#sk-container-id-1 label.sk-toggleable__label-arrow:hover:before {color: black;}#sk-container-id-1 div.sk-estimator:hover label.sk-toggleable__label-arrow:before {color: black;}#sk-container-id-1 div.sk-toggleable__content {max-height: 0;max-width: 0;overflow: hidden;text-align: left;background-color: #f0f8ff;}#sk-container-id-1 div.sk-toggleable__content pre {margin: 0.2em;color: black;border-radius: 0.25em;background-color: #f0f8ff;}#sk-container-id-1 input.sk-toggleable__control:checked~div.sk-toggleable__content {max-height: 200px;max-width: 100%;overflow: auto;}#sk-container-id-1 input.sk-toggleable__control:checked~label.sk-toggleable__label-arrow:before {content: \"▾\";}#sk-container-id-1 div.sk-estimator input.sk-toggleable__control:checked~label.sk-toggleable__label {background-color: #d4ebff;}#sk-container-id-1 div.sk-label input.sk-toggleable__control:checked~label.sk-toggleable__label {background-color: #d4ebff;}#sk-container-id-1 input.sk-hidden--visually {border: 0;clip: rect(1px 1px 1px 1px);clip: rect(1px, 1px, 1px, 1px);height: 1px;margin: -1px;overflow: hidden;padding: 0;position: absolute;width: 1px;}#sk-container-id-1 div.sk-estimator {font-family: monospace;background-color: #f0f8ff;border: 1px dotted black;border-radius: 0.25em;box-sizing: border-box;margin-bottom: 0.5em;}#sk-container-id-1 div.sk-estimator:hover {background-color: #d4ebff;}#sk-container-id-1 div.sk-parallel-item::after {content: \"\";width: 100%;border-bottom: 1px solid gray;flex-grow: 1;}#sk-container-id-1 div.sk-label:hover label.sk-toggleable__label {background-color: #d4ebff;}#sk-container-id-1 div.sk-serial::before {content: \"\";position: absolute;border-left: 1px solid gray;box-sizing: border-box;top: 0;bottom: 0;left: 50%;z-index: 0;}#sk-container-id-1 div.sk-serial {display: flex;flex-direction: column;align-items: center;background-color: white;padding-right: 0.2em;padding-left: 0.2em;position: relative;}#sk-container-id-1 div.sk-item {position: relative;z-index: 1;}#sk-container-id-1 div.sk-parallel {display: flex;align-items: stretch;justify-content: center;background-color: white;position: relative;}#sk-container-id-1 div.sk-item::before, #sk-container-id-1 div.sk-parallel-item::before {content: \"\";position: absolute;border-left: 1px solid gray;box-sizing: border-box;top: 0;bottom: 0;left: 50%;z-index: -1;}#sk-container-id-1 div.sk-parallel-item {display: flex;flex-direction: column;z-index: 1;position: relative;background-color: white;}#sk-container-id-1 div.sk-parallel-item:first-child::after {align-self: flex-end;width: 50%;}#sk-container-id-1 div.sk-parallel-item:last-child::after {align-self: flex-start;width: 50%;}#sk-container-id-1 div.sk-parallel-item:only-child::after {width: 0;}#sk-container-id-1 div.sk-dashed-wrapped {border: 1px dashed gray;margin: 0 0.4em 0.5em 0.4em;box-sizing: border-box;padding-bottom: 0.4em;background-color: white;}#sk-container-id-1 div.sk-label label {font-family: monospace;font-weight: bold;display: inline-block;line-height: 1.2em;}#sk-container-id-1 div.sk-label-container {text-align: center;}#sk-container-id-1 div.sk-container {/* jupyter's `normalize.less` sets `[hidden] { display: none; }` but bootstrap.min.css set `[hidden] { display: none !important; }` so we also need the `!important` here to be able to override the default hidden behavior on the sphinx rendered scikit-learn.org. See: https://github.com/scikit-learn/scikit-learn/issues/21755 */display: inline-block !important;position: relative;}#sk-container-id-1 div.sk-text-repr-fallback {display: none;}</style><div id=\"sk-container-id-1\" class=\"sk-top-container\"><div class=\"sk-text-repr-fallback\"><pre>LogisticRegression()</pre><b>In a Jupyter environment, please rerun this cell to show the HTML representation or trust the notebook. <br />On GitHub, the HTML representation is unable to render, please try loading this page with nbviewer.org.</b></div><div class=\"sk-container\" hidden><div class=\"sk-item\"><div class=\"sk-estimator sk-toggleable\"><input class=\"sk-toggleable__control sk-hidden--visually\" id=\"sk-estimator-id-1\" type=\"checkbox\" checked><label for=\"sk-estimator-id-1\" class=\"sk-toggleable__label sk-toggleable__label-arrow\">LogisticRegression</label><div class=\"sk-toggleable__content\"><pre>LogisticRegression()</pre></div></div></div></div></div>"
      ],
      "text/plain": [
       "LogisticRegression()"
      ]
     },
     "execution_count": 26,
     "metadata": {},
     "output_type": "execute_result"
    }
   ],
   "source": [
    "# Considerando que 6 é o número ideal de componentes\n",
    "pca_final = PCA(n_components = 6)\n",
    "pca_data_final = pca_final.fit_transform(scaled_data)\n",
    "lr_final = LogisticRegression()\n",
    "lr_final.fit(pca_data_final, df['target'])"
   ]
  },
  {
   "cell_type": "code",
   "execution_count": 27,
   "id": "2b61536a",
   "metadata": {},
   "outputs": [],
   "source": [
    "# Simulando novos dados\n",
    "new_data = np.random.randn(10, 8)"
   ]
  },
  {
   "cell_type": "code",
   "execution_count": 28,
   "id": "06eae7a8",
   "metadata": {},
   "outputs": [
    {
     "data": {
      "text/plain": [
       "array([[ 0.63122436, -1.15122666,  1.1049972 , -0.37753115,  1.25761311,\n",
       "        -0.53345245, -1.02662548, -0.45813699],\n",
       "       [-0.09514812, -0.38847991, -0.21600142,  0.33396515, -0.17117937,\n",
       "        -0.06611239, -1.7092264 ,  0.39169802],\n",
       "       [-0.0892033 ,  1.61029298, -0.93956517, -1.80829533,  0.61806849,\n",
       "         0.34652702, -1.00843302, -1.52974896],\n",
       "       [ 1.53739673,  1.41411039, -2.48745676, -0.45822303,  1.66419205,\n",
       "        -0.47606256, -0.49061223, -0.28275933],\n",
       "       [-1.12089697, -1.70477574,  1.05254731, -1.84293691,  0.24727145,\n",
       "         0.88657949, -1.4512263 , -0.9242684 ],\n",
       "       [ 1.21317919,  0.53289172, -0.61728571,  1.202249  ,  1.20653572,\n",
       "         0.26905269, -0.90016023, -0.4134487 ],\n",
       "       [ 0.28638674, -0.18859483,  0.93895718, -1.52977408, -1.49426353,\n",
       "         0.18087111, -0.49154441, -0.62704861],\n",
       "       [-1.76805672,  0.01954584, -0.05275511,  0.65347898,  0.06890613,\n",
       "        -0.13260408,  1.17700064, -1.3124673 ],\n",
       "       [ 0.53638922, -1.67114716, -0.83836188, -1.21265713,  0.78194254,\n",
       "        -0.06541023, -0.01350324, -1.10673299],\n",
       "       [-0.2996935 , -0.7634653 ,  0.38345501, -0.99109114,  1.32979437,\n",
       "        -1.67558045, -0.80651983,  1.67720051]])"
      ]
     },
     "execution_count": 28,
     "metadata": {},
     "output_type": "execute_result"
    }
   ],
   "source": [
    "new_data"
   ]
  },
  {
   "cell_type": "code",
   "execution_count": 29,
   "id": "336e3159",
   "metadata": {},
   "outputs": [],
   "source": [
    "# Padroniza os dados de entrada\n",
    "scaled_new_data = scaler.transform(new_data)"
   ]
  },
  {
   "cell_type": "code",
   "execution_count": 30,
   "id": "34d016fe",
   "metadata": {},
   "outputs": [],
   "source": [
    "# Aplica o PCA\n",
    "pca_new_data = pca_final.transform(scaled_new_data)"
   ]
  },
  {
   "cell_type": "code",
   "execution_count": 31,
   "id": "e5240e6d",
   "metadata": {},
   "outputs": [
    {
     "name": "stdout",
     "output_type": "stream",
     "text": [
      "[1 1 0 1 0 1 0 0 1 1]\n"
     ]
    }
   ],
   "source": [
    "# Previsões usando os componentes principais\n",
    "predictions = lr_final.predict(pca_new_data)\n",
    "print(predictions)"
   ]
  }
 ],
 "metadata": {
  "kernelspec": {
   "display_name": "Python 3 (ipykernel)",
   "language": "python",
   "name": "python3"
  },
  "language_info": {
   "codemirror_mode": {
    "name": "ipython",
    "version": 3
   },
   "file_extension": ".py",
   "mimetype": "text/x-python",
   "name": "python",
   "nbconvert_exporter": "python",
   "pygments_lexer": "ipython3",
   "version": "3.11.5"
  }
 },
 "nbformat": 4,
 "nbformat_minor": 5
}
